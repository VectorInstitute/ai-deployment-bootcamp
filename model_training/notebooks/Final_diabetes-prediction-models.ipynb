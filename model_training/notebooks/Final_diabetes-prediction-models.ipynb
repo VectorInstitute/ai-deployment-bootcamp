{
 "cells": [
  {
   "cell_type": "markdown",
   "id": "6c89020e",
   "metadata": {
    "tags": []
   },
   "source": [
    "# Introduction\n",
    "\n",
    "Source: https://www.kaggle.com/code/abdallahsaadelgendy/diabetes-prediction-eda-preprocessing-models/notebook"
   ]
  },
  {
   "cell_type": "markdown",
   "id": "b6d97aca",
   "metadata": {
    "tags": []
   },
   "source": [
    "The dataset originally has **330 features (columns)** but based on diabetes disease research regarding factors influencing diabetes disease and other chronic health conditions the publisher of that dataset clean **BRFSS** data into a **useable format for machine learning alogrithms**. \n",
    "__________________________________________________________________________________________________________________________\n",
    "\n",
    "**Important risk factors for diabetes :**\n",
    "\n",
    "( blood pressure (high) , cholesterol (high) , smoking , diabetes , obesity , age , sex , race , diet , exercise , alcohol consumption , BMI , Household Income , Marital Status , Sleep , Time since last checkup , Education , Health care coverage , Mental Health )\n",
    "___________________________________________________________________________________________________________________________\n",
    "\n",
    "### About Columns :\n",
    "\n",
    "**Diabetes_binary** : you have diabetes (0,1)\n",
    "\n",
    "**HighBP** : Adults who have been told they have high blood pressure by a doctor, nurse, or other health professional (0,1)\n",
    "\n",
    "**HighChol** : Have you EVER been told by a doctor, nurse or other health professional that your blood cholesterol is high? (0,1)\n",
    "\n",
    "**CholCheck** : Cholesterol check within past five years (0,1)\n",
    "\n",
    "**BMI** : Body Mass Index (BMI) \n",
    "\n",
    "**Smoker** : Have you smoked at least 100 cigarettes in your entire life? [Note: 5 packs = 100 cigarettes] (0,1)\n",
    "\n",
    "**Stroke** : (Ever told) you had a stroke. (0,1)\n",
    "\n",
    "**HeartDiseaseorAttack** : Respondents that have ever reported having coronary heart disease (CHD) or myocardial infarction (MI) (0,1)\n",
    "\n",
    "**PhysActivity** : Adults who reported doing physical activity or exercise during the past 30 days other than their regular job (0,1)\n",
    "\n",
    "**Fruits** : Consume Fruit 1 or more times per day (0,1)\n",
    "\n",
    "**Veggies** : Consume Vegetables 1 or more times per day (0,1)\n",
    "\n",
    "**HvyAlcoholConsump** : Heavy drinkers (adult men having more than 14 drinks per week and adult women having more than 7 drinks per week)(0,1)\n",
    "\n",
    "**AnyHealthcare** : Do you have any kind of health care coverage, including health insurance, prepaid plans such as HMOs, or government plans such as Medicare, or Indian Health Service? (0,1)\n",
    "\n",
    "**NoDocbcCost** : Was there a time in the past 12 months when you needed to see a doctor but could not because of cost? (0,1)\n",
    "\n",
    "**GenHlth** : Would you say that in general your health is: rate (1 ~ 5)\n",
    "\n",
    "**MentHlth** : Now thinking about your mental health, which includes stress, depression, and problems with emotions, for how many days during the past 30 days was your mental health not good? (0 ~ 30)\n",
    "\n",
    "**PhysHlth** : Now thinking about your physical health, which includes physical illness and injury, for how many days during the past 30 days was your physical health not good? (0 ~ 30)\n",
    "\n",
    "**DiffWalk** : Do you have serious difficulty walking or climbing stairs? (0,1)\n",
    "\n",
    "**Sex** : Indicate sex of respondent (0,1) (Female or Male)\n",
    "\n",
    "**Age** : Fourteen-level age category (1 ~ 14)\n",
    "\n",
    "**Education** : What is the highest grade or year of school you completed? (1 ~ 6)\n",
    "\n",
    "**Income** : Is your annual household income from all sources: (If respondent refuses at any income level, code \"Refused.\") (1 ~ 8)"
   ]
  },
  {
   "cell_type": "markdown",
   "id": "5b4de46d",
   "metadata": {},
   "source": [
    "_________________________________________________________________________________________________________________________"
   ]
  },
  {
   "cell_type": "code",
   "execution_count": 1,
   "id": "b0b3b17c",
   "metadata": {},
   "outputs": [],
   "source": [
    "import pandas as pd \n",
    "import numpy as np \n",
    "import seaborn as sns \n",
    "import matplotlib.pyplot as plt \n",
    "import math\n",
    "\n",
    "from sklearn.datasets import make_classification\n",
    "from imblearn.under_sampling import NearMiss\n",
    "from sklearn.model_selection import train_test_split\n",
    "from imblearn.over_sampling import SMOTE\n",
    "from sklearn.decomposition import PCA\n",
    "\n",
    "from sklearn.pipeline import make_pipeline\n",
    "from sklearn.compose import ColumnTransformer, make_column_selector\n",
    "from sklearn.preprocessing import FunctionTransformer\n",
    "\n",
    "from sklearn.impute import SimpleImputer\n",
    "from sklearn.preprocessing import StandardScaler\n",
    "from sklearn.base import BaseEstimator, TransformerMixin\n",
    "\n",
    "\n",
    "from sklearn.metrics import confusion_matrix, classification_report\n",
    "\n",
    "# replace  plot_roc_curve with RocCurveDisplay\n",
    "from sklearn.metrics import RocCurveDisplay\n",
    "\n",
    "\n",
    "from sklearn.metrics import mean_absolute_error, mean_absolute_percentage_error, mean_squared_error, accuracy_score\n",
    "from mlxtend.plotting import plot_confusion_matrix\n",
    "from sklearn.ensemble import RandomForestClassifier\n",
    "%matplotlib inline\n",
    "\n",
    "import joblib\n",
    "\n",
    "\n",
    "import warnings\n",
    "warnings.filterwarnings(\"ignore\")"
   ]
  },
  {
   "cell_type": "markdown",
   "id": "63f20ea3",
   "metadata": {},
   "source": [
    "________________________________________________________________________________________________________________"
   ]
  },
  {
   "cell_type": "markdown",
   "id": "b1ded164",
   "metadata": {},
   "source": [
    "# Load Data "
   ]
  },
  {
   "cell_type": "markdown",
   "id": "4836dfc3",
   "metadata": {},
   "source": [
    "______________________________________________________________________________________________________________________"
   ]
  },
  {
   "cell_type": "code",
   "execution_count": 2,
   "id": "088aaecd",
   "metadata": {},
   "outputs": [
    {
     "name": "stdout",
     "output_type": "stream",
     "text": [
      "(253680, 22)\n"
     ]
    }
   ],
   "source": [
    "data = pd.read_csv(\"../../data/diabetes_012_health_indicators_BRFSS2015.csv\" , sep = \",\" , encoding = 'utf-8')\n",
    "\n",
    "data['Diabetes_binary'] = data['Diabetes_012'].apply(lambda x: 0 if x==0 else 1)\n",
    "data.drop(columns=['Diabetes_012'], inplace=True)\n",
    "\n",
    "print(data.shape)"
   ]
  },
  {
   "cell_type": "code",
   "execution_count": 3,
   "id": "cba6696d",
   "metadata": {},
   "outputs": [
    {
     "name": "stdout",
     "output_type": "stream",
     "text": [
      "<class 'pandas.core.frame.DataFrame'>\n",
      "RangeIndex: 253680 entries, 0 to 253679\n",
      "Data columns (total 22 columns):\n",
      " #   Column                Non-Null Count   Dtype  \n",
      "---  ------                --------------   -----  \n",
      " 0   HighBP                253680 non-null  float64\n",
      " 1   HighChol              253680 non-null  float64\n",
      " 2   CholCheck             253680 non-null  float64\n",
      " 3   BMI                   253680 non-null  float64\n",
      " 4   Smoker                253680 non-null  float64\n",
      " 5   Stroke                253680 non-null  float64\n",
      " 6   HeartDiseaseorAttack  253680 non-null  float64\n",
      " 7   PhysActivity          253680 non-null  float64\n",
      " 8   Fruits                253680 non-null  float64\n",
      " 9   Veggies               253680 non-null  float64\n",
      " 10  HvyAlcoholConsump     253680 non-null  float64\n",
      " 11  AnyHealthcare         253680 non-null  float64\n",
      " 12  NoDocbcCost           253680 non-null  float64\n",
      " 13  GenHlth               253680 non-null  float64\n",
      " 14  MentHlth              253680 non-null  float64\n",
      " 15  PhysHlth              253680 non-null  float64\n",
      " 16  DiffWalk              253680 non-null  float64\n",
      " 17  Sex                   253680 non-null  float64\n",
      " 18  Age                   253680 non-null  float64\n",
      " 19  Education             253680 non-null  float64\n",
      " 20  Income                253680 non-null  float64\n",
      " 21  Diabetes_binary       253680 non-null  int64  \n",
      "dtypes: float64(21), int64(1)\n",
      "memory usage: 42.6 MB\n"
     ]
    }
   ],
   "source": [
    "data.info()"
   ]
  },
  {
   "cell_type": "code",
   "execution_count": 4,
   "id": "807a8678",
   "metadata": {},
   "outputs": [
    {
     "data": {
      "text/html": [
       "<div>\n",
       "<style scoped>\n",
       "    .dataframe tbody tr th:only-of-type {\n",
       "        vertical-align: middle;\n",
       "    }\n",
       "\n",
       "    .dataframe tbody tr th {\n",
       "        vertical-align: top;\n",
       "    }\n",
       "\n",
       "    .dataframe thead th {\n",
       "        text-align: right;\n",
       "    }\n",
       "</style>\n",
       "<table border=\"1\" class=\"dataframe\">\n",
       "  <thead>\n",
       "    <tr style=\"text-align: right;\">\n",
       "      <th></th>\n",
       "      <th>HighBP</th>\n",
       "      <th>HighChol</th>\n",
       "      <th>CholCheck</th>\n",
       "      <th>BMI</th>\n",
       "      <th>Smoker</th>\n",
       "      <th>Stroke</th>\n",
       "      <th>HeartDiseaseorAttack</th>\n",
       "      <th>PhysActivity</th>\n",
       "      <th>Fruits</th>\n",
       "      <th>Veggies</th>\n",
       "      <th>...</th>\n",
       "      <th>NoDocbcCost</th>\n",
       "      <th>GenHlth</th>\n",
       "      <th>MentHlth</th>\n",
       "      <th>PhysHlth</th>\n",
       "      <th>DiffWalk</th>\n",
       "      <th>Sex</th>\n",
       "      <th>Age</th>\n",
       "      <th>Education</th>\n",
       "      <th>Income</th>\n",
       "      <th>Diabetes_binary</th>\n",
       "    </tr>\n",
       "  </thead>\n",
       "  <tbody>\n",
       "    <tr>\n",
       "      <th>0</th>\n",
       "      <td>1.0</td>\n",
       "      <td>1.0</td>\n",
       "      <td>1.0</td>\n",
       "      <td>40.0</td>\n",
       "      <td>1.0</td>\n",
       "      <td>0.0</td>\n",
       "      <td>0.0</td>\n",
       "      <td>0.0</td>\n",
       "      <td>0.0</td>\n",
       "      <td>1.0</td>\n",
       "      <td>...</td>\n",
       "      <td>0.0</td>\n",
       "      <td>5.0</td>\n",
       "      <td>18.0</td>\n",
       "      <td>15.0</td>\n",
       "      <td>1.0</td>\n",
       "      <td>0.0</td>\n",
       "      <td>9.0</td>\n",
       "      <td>4.0</td>\n",
       "      <td>3.0</td>\n",
       "      <td>0</td>\n",
       "    </tr>\n",
       "    <tr>\n",
       "      <th>1</th>\n",
       "      <td>0.0</td>\n",
       "      <td>0.0</td>\n",
       "      <td>0.0</td>\n",
       "      <td>25.0</td>\n",
       "      <td>1.0</td>\n",
       "      <td>0.0</td>\n",
       "      <td>0.0</td>\n",
       "      <td>1.0</td>\n",
       "      <td>0.0</td>\n",
       "      <td>0.0</td>\n",
       "      <td>...</td>\n",
       "      <td>1.0</td>\n",
       "      <td>3.0</td>\n",
       "      <td>0.0</td>\n",
       "      <td>0.0</td>\n",
       "      <td>0.0</td>\n",
       "      <td>0.0</td>\n",
       "      <td>7.0</td>\n",
       "      <td>6.0</td>\n",
       "      <td>1.0</td>\n",
       "      <td>0</td>\n",
       "    </tr>\n",
       "    <tr>\n",
       "      <th>2</th>\n",
       "      <td>1.0</td>\n",
       "      <td>1.0</td>\n",
       "      <td>1.0</td>\n",
       "      <td>28.0</td>\n",
       "      <td>0.0</td>\n",
       "      <td>0.0</td>\n",
       "      <td>0.0</td>\n",
       "      <td>0.0</td>\n",
       "      <td>1.0</td>\n",
       "      <td>0.0</td>\n",
       "      <td>...</td>\n",
       "      <td>1.0</td>\n",
       "      <td>5.0</td>\n",
       "      <td>30.0</td>\n",
       "      <td>30.0</td>\n",
       "      <td>1.0</td>\n",
       "      <td>0.0</td>\n",
       "      <td>9.0</td>\n",
       "      <td>4.0</td>\n",
       "      <td>8.0</td>\n",
       "      <td>0</td>\n",
       "    </tr>\n",
       "    <tr>\n",
       "      <th>3</th>\n",
       "      <td>1.0</td>\n",
       "      <td>0.0</td>\n",
       "      <td>1.0</td>\n",
       "      <td>27.0</td>\n",
       "      <td>0.0</td>\n",
       "      <td>0.0</td>\n",
       "      <td>0.0</td>\n",
       "      <td>1.0</td>\n",
       "      <td>1.0</td>\n",
       "      <td>1.0</td>\n",
       "      <td>...</td>\n",
       "      <td>0.0</td>\n",
       "      <td>2.0</td>\n",
       "      <td>0.0</td>\n",
       "      <td>0.0</td>\n",
       "      <td>0.0</td>\n",
       "      <td>0.0</td>\n",
       "      <td>11.0</td>\n",
       "      <td>3.0</td>\n",
       "      <td>6.0</td>\n",
       "      <td>0</td>\n",
       "    </tr>\n",
       "    <tr>\n",
       "      <th>4</th>\n",
       "      <td>1.0</td>\n",
       "      <td>1.0</td>\n",
       "      <td>1.0</td>\n",
       "      <td>24.0</td>\n",
       "      <td>0.0</td>\n",
       "      <td>0.0</td>\n",
       "      <td>0.0</td>\n",
       "      <td>1.0</td>\n",
       "      <td>1.0</td>\n",
       "      <td>1.0</td>\n",
       "      <td>...</td>\n",
       "      <td>0.0</td>\n",
       "      <td>2.0</td>\n",
       "      <td>3.0</td>\n",
       "      <td>0.0</td>\n",
       "      <td>0.0</td>\n",
       "      <td>0.0</td>\n",
       "      <td>11.0</td>\n",
       "      <td>5.0</td>\n",
       "      <td>4.0</td>\n",
       "      <td>0</td>\n",
       "    </tr>\n",
       "  </tbody>\n",
       "</table>\n",
       "<p>5 rows × 22 columns</p>\n",
       "</div>"
      ],
      "text/plain": [
       "   HighBP  HighChol  CholCheck   BMI  Smoker  Stroke  HeartDiseaseorAttack  \\\n",
       "0     1.0       1.0        1.0  40.0     1.0     0.0                   0.0   \n",
       "1     0.0       0.0        0.0  25.0     1.0     0.0                   0.0   \n",
       "2     1.0       1.0        1.0  28.0     0.0     0.0                   0.0   \n",
       "3     1.0       0.0        1.0  27.0     0.0     0.0                   0.0   \n",
       "4     1.0       1.0        1.0  24.0     0.0     0.0                   0.0   \n",
       "\n",
       "   PhysActivity  Fruits  Veggies  ...  NoDocbcCost  GenHlth  MentHlth  \\\n",
       "0           0.0     0.0      1.0  ...          0.0      5.0      18.0   \n",
       "1           1.0     0.0      0.0  ...          1.0      3.0       0.0   \n",
       "2           0.0     1.0      0.0  ...          1.0      5.0      30.0   \n",
       "3           1.0     1.0      1.0  ...          0.0      2.0       0.0   \n",
       "4           1.0     1.0      1.0  ...          0.0      2.0       3.0   \n",
       "\n",
       "   PhysHlth  DiffWalk  Sex   Age  Education  Income  Diabetes_binary  \n",
       "0      15.0       1.0  0.0   9.0        4.0     3.0                0  \n",
       "1       0.0       0.0  0.0   7.0        6.0     1.0                0  \n",
       "2      30.0       1.0  0.0   9.0        4.0     8.0                0  \n",
       "3       0.0       0.0  0.0  11.0        3.0     6.0                0  \n",
       "4       0.0       0.0  0.0  11.0        5.0     4.0                0  \n",
       "\n",
       "[5 rows x 22 columns]"
      ]
     },
     "execution_count": 4,
     "metadata": {},
     "output_type": "execute_result"
    }
   ],
   "source": [
    "data.head()"
   ]
  },
  {
   "cell_type": "code",
   "execution_count": 5,
   "id": "4e0db064",
   "metadata": {},
   "outputs": [
    {
     "data": {
      "text/html": [
       "<div>\n",
       "<style scoped>\n",
       "    .dataframe tbody tr th:only-of-type {\n",
       "        vertical-align: middle;\n",
       "    }\n",
       "\n",
       "    .dataframe tbody tr th {\n",
       "        vertical-align: top;\n",
       "    }\n",
       "\n",
       "    .dataframe thead th {\n",
       "        text-align: right;\n",
       "    }\n",
       "</style>\n",
       "<table border=\"1\" class=\"dataframe\">\n",
       "  <thead>\n",
       "    <tr style=\"text-align: right;\">\n",
       "      <th></th>\n",
       "      <th>HighBP</th>\n",
       "      <th>HighChol</th>\n",
       "      <th>CholCheck</th>\n",
       "      <th>BMI</th>\n",
       "      <th>Smoker</th>\n",
       "      <th>Stroke</th>\n",
       "      <th>HeartDiseaseorAttack</th>\n",
       "      <th>PhysActivity</th>\n",
       "      <th>Fruits</th>\n",
       "      <th>Veggies</th>\n",
       "      <th>...</th>\n",
       "      <th>NoDocbcCost</th>\n",
       "      <th>GenHlth</th>\n",
       "      <th>MentHlth</th>\n",
       "      <th>PhysHlth</th>\n",
       "      <th>DiffWalk</th>\n",
       "      <th>Sex</th>\n",
       "      <th>Age</th>\n",
       "      <th>Education</th>\n",
       "      <th>Income</th>\n",
       "      <th>Diabetes_binary</th>\n",
       "    </tr>\n",
       "  </thead>\n",
       "  <tbody>\n",
       "    <tr>\n",
       "      <th>count</th>\n",
       "      <td>253680.000000</td>\n",
       "      <td>253680.000000</td>\n",
       "      <td>253680.000000</td>\n",
       "      <td>253680.000000</td>\n",
       "      <td>253680.000000</td>\n",
       "      <td>253680.000000</td>\n",
       "      <td>253680.000000</td>\n",
       "      <td>253680.000000</td>\n",
       "      <td>253680.000000</td>\n",
       "      <td>253680.000000</td>\n",
       "      <td>...</td>\n",
       "      <td>253680.000000</td>\n",
       "      <td>253680.000000</td>\n",
       "      <td>253680.000000</td>\n",
       "      <td>253680.000000</td>\n",
       "      <td>253680.000000</td>\n",
       "      <td>253680.000000</td>\n",
       "      <td>253680.000000</td>\n",
       "      <td>253680.000000</td>\n",
       "      <td>253680.000000</td>\n",
       "      <td>253680.000000</td>\n",
       "    </tr>\n",
       "    <tr>\n",
       "      <th>mean</th>\n",
       "      <td>0.429001</td>\n",
       "      <td>0.424121</td>\n",
       "      <td>0.962670</td>\n",
       "      <td>28.382364</td>\n",
       "      <td>0.443169</td>\n",
       "      <td>0.040571</td>\n",
       "      <td>0.094186</td>\n",
       "      <td>0.756544</td>\n",
       "      <td>0.634256</td>\n",
       "      <td>0.811420</td>\n",
       "      <td>...</td>\n",
       "      <td>0.084177</td>\n",
       "      <td>2.511392</td>\n",
       "      <td>3.184772</td>\n",
       "      <td>4.242081</td>\n",
       "      <td>0.168224</td>\n",
       "      <td>0.440342</td>\n",
       "      <td>8.032119</td>\n",
       "      <td>5.050434</td>\n",
       "      <td>6.053875</td>\n",
       "      <td>0.157588</td>\n",
       "    </tr>\n",
       "    <tr>\n",
       "      <th>std</th>\n",
       "      <td>0.494934</td>\n",
       "      <td>0.494210</td>\n",
       "      <td>0.189571</td>\n",
       "      <td>6.608694</td>\n",
       "      <td>0.496761</td>\n",
       "      <td>0.197294</td>\n",
       "      <td>0.292087</td>\n",
       "      <td>0.429169</td>\n",
       "      <td>0.481639</td>\n",
       "      <td>0.391175</td>\n",
       "      <td>...</td>\n",
       "      <td>0.277654</td>\n",
       "      <td>1.068477</td>\n",
       "      <td>7.412847</td>\n",
       "      <td>8.717951</td>\n",
       "      <td>0.374066</td>\n",
       "      <td>0.496429</td>\n",
       "      <td>3.054220</td>\n",
       "      <td>0.985774</td>\n",
       "      <td>2.071148</td>\n",
       "      <td>0.364355</td>\n",
       "    </tr>\n",
       "    <tr>\n",
       "      <th>min</th>\n",
       "      <td>0.000000</td>\n",
       "      <td>0.000000</td>\n",
       "      <td>0.000000</td>\n",
       "      <td>12.000000</td>\n",
       "      <td>0.000000</td>\n",
       "      <td>0.000000</td>\n",
       "      <td>0.000000</td>\n",
       "      <td>0.000000</td>\n",
       "      <td>0.000000</td>\n",
       "      <td>0.000000</td>\n",
       "      <td>...</td>\n",
       "      <td>0.000000</td>\n",
       "      <td>1.000000</td>\n",
       "      <td>0.000000</td>\n",
       "      <td>0.000000</td>\n",
       "      <td>0.000000</td>\n",
       "      <td>0.000000</td>\n",
       "      <td>1.000000</td>\n",
       "      <td>1.000000</td>\n",
       "      <td>1.000000</td>\n",
       "      <td>0.000000</td>\n",
       "    </tr>\n",
       "    <tr>\n",
       "      <th>25%</th>\n",
       "      <td>0.000000</td>\n",
       "      <td>0.000000</td>\n",
       "      <td>1.000000</td>\n",
       "      <td>24.000000</td>\n",
       "      <td>0.000000</td>\n",
       "      <td>0.000000</td>\n",
       "      <td>0.000000</td>\n",
       "      <td>1.000000</td>\n",
       "      <td>0.000000</td>\n",
       "      <td>1.000000</td>\n",
       "      <td>...</td>\n",
       "      <td>0.000000</td>\n",
       "      <td>2.000000</td>\n",
       "      <td>0.000000</td>\n",
       "      <td>0.000000</td>\n",
       "      <td>0.000000</td>\n",
       "      <td>0.000000</td>\n",
       "      <td>6.000000</td>\n",
       "      <td>4.000000</td>\n",
       "      <td>5.000000</td>\n",
       "      <td>0.000000</td>\n",
       "    </tr>\n",
       "    <tr>\n",
       "      <th>50%</th>\n",
       "      <td>0.000000</td>\n",
       "      <td>0.000000</td>\n",
       "      <td>1.000000</td>\n",
       "      <td>27.000000</td>\n",
       "      <td>0.000000</td>\n",
       "      <td>0.000000</td>\n",
       "      <td>0.000000</td>\n",
       "      <td>1.000000</td>\n",
       "      <td>1.000000</td>\n",
       "      <td>1.000000</td>\n",
       "      <td>...</td>\n",
       "      <td>0.000000</td>\n",
       "      <td>2.000000</td>\n",
       "      <td>0.000000</td>\n",
       "      <td>0.000000</td>\n",
       "      <td>0.000000</td>\n",
       "      <td>0.000000</td>\n",
       "      <td>8.000000</td>\n",
       "      <td>5.000000</td>\n",
       "      <td>7.000000</td>\n",
       "      <td>0.000000</td>\n",
       "    </tr>\n",
       "    <tr>\n",
       "      <th>75%</th>\n",
       "      <td>1.000000</td>\n",
       "      <td>1.000000</td>\n",
       "      <td>1.000000</td>\n",
       "      <td>31.000000</td>\n",
       "      <td>1.000000</td>\n",
       "      <td>0.000000</td>\n",
       "      <td>0.000000</td>\n",
       "      <td>1.000000</td>\n",
       "      <td>1.000000</td>\n",
       "      <td>1.000000</td>\n",
       "      <td>...</td>\n",
       "      <td>0.000000</td>\n",
       "      <td>3.000000</td>\n",
       "      <td>2.000000</td>\n",
       "      <td>3.000000</td>\n",
       "      <td>0.000000</td>\n",
       "      <td>1.000000</td>\n",
       "      <td>10.000000</td>\n",
       "      <td>6.000000</td>\n",
       "      <td>8.000000</td>\n",
       "      <td>0.000000</td>\n",
       "    </tr>\n",
       "    <tr>\n",
       "      <th>max</th>\n",
       "      <td>1.000000</td>\n",
       "      <td>1.000000</td>\n",
       "      <td>1.000000</td>\n",
       "      <td>98.000000</td>\n",
       "      <td>1.000000</td>\n",
       "      <td>1.000000</td>\n",
       "      <td>1.000000</td>\n",
       "      <td>1.000000</td>\n",
       "      <td>1.000000</td>\n",
       "      <td>1.000000</td>\n",
       "      <td>...</td>\n",
       "      <td>1.000000</td>\n",
       "      <td>5.000000</td>\n",
       "      <td>30.000000</td>\n",
       "      <td>30.000000</td>\n",
       "      <td>1.000000</td>\n",
       "      <td>1.000000</td>\n",
       "      <td>13.000000</td>\n",
       "      <td>6.000000</td>\n",
       "      <td>8.000000</td>\n",
       "      <td>1.000000</td>\n",
       "    </tr>\n",
       "  </tbody>\n",
       "</table>\n",
       "<p>8 rows × 22 columns</p>\n",
       "</div>"
      ],
      "text/plain": [
       "              HighBP       HighChol      CholCheck            BMI  \\\n",
       "count  253680.000000  253680.000000  253680.000000  253680.000000   \n",
       "mean        0.429001       0.424121       0.962670      28.382364   \n",
       "std         0.494934       0.494210       0.189571       6.608694   \n",
       "min         0.000000       0.000000       0.000000      12.000000   \n",
       "25%         0.000000       0.000000       1.000000      24.000000   \n",
       "50%         0.000000       0.000000       1.000000      27.000000   \n",
       "75%         1.000000       1.000000       1.000000      31.000000   \n",
       "max         1.000000       1.000000       1.000000      98.000000   \n",
       "\n",
       "              Smoker         Stroke  HeartDiseaseorAttack   PhysActivity  \\\n",
       "count  253680.000000  253680.000000         253680.000000  253680.000000   \n",
       "mean        0.443169       0.040571              0.094186       0.756544   \n",
       "std         0.496761       0.197294              0.292087       0.429169   \n",
       "min         0.000000       0.000000              0.000000       0.000000   \n",
       "25%         0.000000       0.000000              0.000000       1.000000   \n",
       "50%         0.000000       0.000000              0.000000       1.000000   \n",
       "75%         1.000000       0.000000              0.000000       1.000000   \n",
       "max         1.000000       1.000000              1.000000       1.000000   \n",
       "\n",
       "              Fruits        Veggies  ...    NoDocbcCost        GenHlth  \\\n",
       "count  253680.000000  253680.000000  ...  253680.000000  253680.000000   \n",
       "mean        0.634256       0.811420  ...       0.084177       2.511392   \n",
       "std         0.481639       0.391175  ...       0.277654       1.068477   \n",
       "min         0.000000       0.000000  ...       0.000000       1.000000   \n",
       "25%         0.000000       1.000000  ...       0.000000       2.000000   \n",
       "50%         1.000000       1.000000  ...       0.000000       2.000000   \n",
       "75%         1.000000       1.000000  ...       0.000000       3.000000   \n",
       "max         1.000000       1.000000  ...       1.000000       5.000000   \n",
       "\n",
       "            MentHlth       PhysHlth       DiffWalk            Sex  \\\n",
       "count  253680.000000  253680.000000  253680.000000  253680.000000   \n",
       "mean        3.184772       4.242081       0.168224       0.440342   \n",
       "std         7.412847       8.717951       0.374066       0.496429   \n",
       "min         0.000000       0.000000       0.000000       0.000000   \n",
       "25%         0.000000       0.000000       0.000000       0.000000   \n",
       "50%         0.000000       0.000000       0.000000       0.000000   \n",
       "75%         2.000000       3.000000       0.000000       1.000000   \n",
       "max        30.000000      30.000000       1.000000       1.000000   \n",
       "\n",
       "                 Age      Education         Income  Diabetes_binary  \n",
       "count  253680.000000  253680.000000  253680.000000    253680.000000  \n",
       "mean        8.032119       5.050434       6.053875         0.157588  \n",
       "std         3.054220       0.985774       2.071148         0.364355  \n",
       "min         1.000000       1.000000       1.000000         0.000000  \n",
       "25%         6.000000       4.000000       5.000000         0.000000  \n",
       "50%         8.000000       5.000000       7.000000         0.000000  \n",
       "75%        10.000000       6.000000       8.000000         0.000000  \n",
       "max        13.000000       6.000000       8.000000         1.000000  \n",
       "\n",
       "[8 rows x 22 columns]"
      ]
     },
     "execution_count": 5,
     "metadata": {},
     "output_type": "execute_result"
    }
   ],
   "source": [
    "data.describe()"
   ]
  },
  {
   "cell_type": "markdown",
   "id": "e4d16e0c",
   "metadata": {},
   "source": [
    "_____________________________________________________________________________________________________________________________"
   ]
  },
  {
   "cell_type": "markdown",
   "id": "3d1184b9",
   "metadata": {},
   "source": [
    "# Preprocessing"
   ]
  },
  {
   "cell_type": "code",
   "execution_count": 6,
   "id": "dbac7a89",
   "metadata": {},
   "outputs": [],
   "source": [
    "# Transform the data to integer\n",
    "num_cols = data.columns\n",
    "data[num_cols] = data[num_cols].astype(int)"
   ]
  },
  {
   "cell_type": "code",
   "execution_count": 7,
   "id": "f04114ce",
   "metadata": {},
   "outputs": [
    {
     "name": "stdout",
     "output_type": "stream",
     "text": [
      "<class 'pandas.core.frame.DataFrame'>\n",
      "RangeIndex: 253680 entries, 0 to 253679\n",
      "Data columns (total 22 columns):\n",
      " #   Column                Non-Null Count   Dtype\n",
      "---  ------                --------------   -----\n",
      " 0   HighBP                253680 non-null  int64\n",
      " 1   HighChol              253680 non-null  int64\n",
      " 2   CholCheck             253680 non-null  int64\n",
      " 3   BMI                   253680 non-null  int64\n",
      " 4   Smoker                253680 non-null  int64\n",
      " 5   Stroke                253680 non-null  int64\n",
      " 6   HeartDiseaseorAttack  253680 non-null  int64\n",
      " 7   PhysActivity          253680 non-null  int64\n",
      " 8   Fruits                253680 non-null  int64\n",
      " 9   Veggies               253680 non-null  int64\n",
      " 10  HvyAlcoholConsump     253680 non-null  int64\n",
      " 11  AnyHealthcare         253680 non-null  int64\n",
      " 12  NoDocbcCost           253680 non-null  int64\n",
      " 13  GenHlth               253680 non-null  int64\n",
      " 14  MentHlth              253680 non-null  int64\n",
      " 15  PhysHlth              253680 non-null  int64\n",
      " 16  DiffWalk              253680 non-null  int64\n",
      " 17  Sex                   253680 non-null  int64\n",
      " 18  Age                   253680 non-null  int64\n",
      " 19  Education             253680 non-null  int64\n",
      " 20  Income                253680 non-null  int64\n",
      " 21  Diabetes_binary       253680 non-null  int64\n",
      "dtypes: int64(22)\n",
      "memory usage: 42.6 MB\n"
     ]
    }
   ],
   "source": [
    "data.info()"
   ]
  },
  {
   "cell_type": "markdown",
   "id": "9331d364",
   "metadata": {},
   "source": [
    "**Check null values**"
   ]
  },
  {
   "cell_type": "code",
   "execution_count": 8,
   "id": "9247a832",
   "metadata": {},
   "outputs": [
    {
     "data": {
      "text/plain": [
       "HighBP                  0\n",
       "HighChol                0\n",
       "CholCheck               0\n",
       "BMI                     0\n",
       "Smoker                  0\n",
       "Stroke                  0\n",
       "HeartDiseaseorAttack    0\n",
       "PhysActivity            0\n",
       "Fruits                  0\n",
       "Veggies                 0\n",
       "HvyAlcoholConsump       0\n",
       "AnyHealthcare           0\n",
       "NoDocbcCost             0\n",
       "GenHlth                 0\n",
       "MentHlth                0\n",
       "PhysHlth                0\n",
       "DiffWalk                0\n",
       "Sex                     0\n",
       "Age                     0\n",
       "Education               0\n",
       "Income                  0\n",
       "Diabetes_binary         0\n",
       "dtype: int64"
      ]
     },
     "execution_count": 8,
     "metadata": {},
     "output_type": "execute_result"
    }
   ],
   "source": [
    "data.isnull().sum()"
   ]
  },
  {
   "cell_type": "markdown",
   "id": "7b93a2b0",
   "metadata": {},
   "source": [
    "_____________________________________________________________________________________________________"
   ]
  },
  {
   "cell_type": "markdown",
   "id": "d56b652b",
   "metadata": {},
   "source": [
    "**Drop dublicated data**"
   ]
  },
  {
   "cell_type": "code",
   "execution_count": 9,
   "id": "68ddee1e",
   "metadata": {},
   "outputs": [
    {
     "data": {
      "text/plain": [
       "np.int64(23968)"
      ]
     },
     "execution_count": 9,
     "metadata": {},
     "output_type": "execute_result"
    }
   ],
   "source": [
    "data.duplicated().sum()"
   ]
  },
  {
   "cell_type": "code",
   "execution_count": 10,
   "id": "6a6d4b31",
   "metadata": {},
   "outputs": [],
   "source": [
    "data.drop_duplicates(inplace = True)"
   ]
  },
  {
   "cell_type": "code",
   "execution_count": 11,
   "id": "9515a747",
   "metadata": {},
   "outputs": [
    {
     "data": {
      "text/plain": [
       "np.int64(0)"
      ]
     },
     "execution_count": 11,
     "metadata": {},
     "output_type": "execute_result"
    }
   ],
   "source": [
    "data.duplicated().sum()"
   ]
  },
  {
   "cell_type": "code",
   "execution_count": 12,
   "id": "d40997b9",
   "metadata": {},
   "outputs": [
    {
     "data": {
      "text/plain": [
       "(229712, 22)"
      ]
     },
     "execution_count": 12,
     "metadata": {},
     "output_type": "execute_result"
    }
   ],
   "source": [
    "data.shape"
   ]
  },
  {
   "cell_type": "markdown",
   "id": "3d8976ed",
   "metadata": {},
   "source": [
    "_____________________________________________________________________________________________________________________"
   ]
  },
  {
   "cell_type": "markdown",
   "id": "cff45e65",
   "metadata": {},
   "source": [
    "### Feature selection"
   ]
  },
  {
   "cell_type": "code",
   "execution_count": 13,
   "id": "ef3bb2b9-b74c-4d35-b054-6c3d72fd1c90",
   "metadata": {
    "tags": []
   },
   "outputs": [],
   "source": [
    "# apply SelectKBest class to extract top 10 best features\n",
    "# bestFeatures = SelectKBest(score_func=chi2, k=15)\n",
    "# fit = bestFeatures.fit(X, Y)\n",
    "\n",
    "# df_scores = pd.DataFrame(fit.scores_)\n",
    "# df_columns = pd.DataFrame(X.columns)\n",
    "\n",
    "# #concatenating two dataframes for better visualization\n",
    "# f_Scores = pd.concat([df_columns,df_scores],axis=1)               # feature scores\n",
    "# f_Scores.columns = ['Feature','Score']\n",
    "\n",
    "# f_Scores.sort_values('Score', ascending=False)"
   ]
  },
  {
   "cell_type": "markdown",
   "id": "98b4bb14",
   "metadata": {},
   "source": [
    "\"Fruits\" , \"Veggies\" , \"Sex\" , \"CholCheck\" , \" AnyHealthcare\" will not be with us "
   ]
  },
  {
   "cell_type": "code",
   "execution_count": 14,
   "id": "55e2b7db",
   "metadata": {},
   "outputs": [],
   "source": [
    "colomns = [\"Fruits\" , \"Veggies\" , \"Sex\" , \"CholCheck\" , \"AnyHealthcare\"]"
   ]
  },
  {
   "cell_type": "code",
   "execution_count": 15,
   "id": "c029c62b",
   "metadata": {},
   "outputs": [],
   "source": [
    "# data.drop(colomns , axis= 1 ,inplace=True)"
   ]
  },
  {
   "cell_type": "markdown",
   "id": "f3e31ca3",
   "metadata": {},
   "source": [
    "________________________________________________________________________________________________________________________"
   ]
  },
  {
   "cell_type": "markdown",
   "id": "3464b879",
   "metadata": {},
   "source": [
    "# Data Splitting "
   ]
  },
  {
   "cell_type": "code",
   "execution_count": 16,
   "id": "9b70a96e",
   "metadata": {},
   "outputs": [],
   "source": [
    "X=data.drop([\"Diabetes_binary\"],axis=1)\n",
    "Y=data[\"Diabetes_binary\"]"
   ]
  },
  {
   "cell_type": "markdown",
   "id": "0dcb4abf",
   "metadata": {},
   "source": [
    "______________________________________________________________________________________________________"
   ]
  },
  {
   "cell_type": "markdown",
   "id": "ad6a97a0",
   "metadata": {},
   "source": [
    "# Dealing with imbalancing\n",
    "\n"
   ]
  },
  {
   "cell_type": "code",
   "execution_count": 17,
   "id": "01a3cc9b",
   "metadata": {},
   "outputs": [
    {
     "data": {
      "text/plain": [
       "Diabetes_binary\n",
       "0    190055\n",
       "1     39657\n",
       "Name: count, dtype: int64"
      ]
     },
     "execution_count": 17,
     "metadata": {},
     "output_type": "execute_result"
    }
   ],
   "source": [
    "Y.value_counts()"
   ]
  },
  {
   "cell_type": "code",
   "execution_count": 18,
   "id": "f2a41ed2",
   "metadata": {},
   "outputs": [
    {
     "name": "stdout",
     "output_type": "stream",
     "text": [
      "(79314,) (79314, 21)\n",
      "Diabetes_binary\n",
      "0    39657\n",
      "1    39657\n",
      "Name: count, dtype: int64\n"
     ]
    }
   ],
   "source": [
    "nm = NearMiss(version=1, n_neighbors=3)\n",
    "\n",
    "x_sm, y_sm = nm.fit_resample(X, Y)\n",
    "\n",
    "# back to a dataframe\n",
    "x_sm = pd.DataFrame(x_sm, columns=X.columns)\n",
    "y_sm = pd.Series(y_sm, name=Y.name)\n",
    "\n",
    "print(y_sm.shape , x_sm.shape)\n",
    "print(y_sm.value_counts())"
   ]
  },
  {
   "cell_type": "code",
   "execution_count": 19,
   "id": "487e24c3-4c31-4880-82d1-b3b0e59e8e5c",
   "metadata": {},
   "outputs": [
    {
     "data": {
      "image/png": "[encoded data removed]",
      "text/plain": [
       "<Figure size 1500x500 with 2 Axes>"
      ]
     },
     "metadata": {},
     "output_type": "display_data"
    }
   ],
   "source": [
    "fig, ax = plt.subplots(1, 2, figsize=(15,5))\n",
    "axe = ax.ravel()\n",
    "\n",
    "\n",
    "def plot_pca(x_all, y_all, ax, title=\"\"):\n",
    "    tmp = pd.concat([x_all, y_all], axis=1).sample(1000)\n",
    "    x = tmp.drop(columns=['Diabetes_binary'])\n",
    "    y = tmp['Diabetes_binary']\n",
    "    \n",
    "    pca = PCA()\n",
    "    Xt = pca.fit_transform(x)\n",
    "    plot = ax.scatter(Xt[:,0], Xt[:,1], c=y)\n",
    "    ax.set(title=title)\n",
    "    ax.legend(handles=plot.legend_elements()[0], labels=['Diabetes', 'Non-diabetes']);\n",
    "\n",
    "plot_pca(X, Y, ax=axe[0], title=\"Before Sampling\")\n",
    "plot_pca(x_sm, y_sm, ax=axe[1], title=\"After undersampling\")"
   ]
  },
  {
   "cell_type": "markdown",
   "id": "07aed2f5",
   "metadata": {},
   "source": [
    "_______________________________________________________________________________________________________________________"
   ]
  },
  {
   "cell_type": "markdown",
   "id": "ad8ca057",
   "metadata": {},
   "source": [
    "# Modeling"
   ]
  },
  {
   "cell_type": "code",
   "execution_count": 20,
   "id": "0e73320c-22fd-453a-9a6e-3fda9e7570c3",
   "metadata": {
    "tags": []
   },
   "outputs": [],
   "source": [
    "# transform into int\n",
    "\n",
    "class TypeTransformer(BaseEstimator, TransformerMixin):\n",
    "    def transform(self, X):\n",
    "        X = X.astype(int)\n",
    "        return X\n"
   ]
  },
  {
   "cell_type": "code",
   "execution_count": 21,
   "id": "30690c40-d51e-4c67-89d6-533b755face2",
   "metadata": {
    "tags": []
   },
   "outputs": [
    {
     "name": "stdout",
     "output_type": "stream",
     "text": [
      "Train shape: (55519, 21)\n",
      "Test shape: (23795, 21)\n"
     ]
    }
   ],
   "source": [
    "X_train , X_test , Y_train , Y_test = train_test_split(x_sm,y_sm, test_size=0.3 , random_state=42)\n",
    "\n",
    "print(f\"Train shape: {X_train.shape}\")\n",
    "print(f\"Test shape: {X_test.shape}\")"
   ]
  },
  {
   "cell_type": "markdown",
   "id": "e20af0b3-5476-46af-abe4-0cde073861a2",
   "metadata": {},
   "source": [
    "## All steps into a pipeline"
   ]
  },
  {
   "cell_type": "code",
   "execution_count": 33,
   "id": "2ff29c51-2a59-407b-b418-3e8bb39d886b",
   "metadata": {
    "tags": []
   },
   "outputs": [],
   "source": [
    "rf_model = RandomForestClassifier(max_depth=10, n_estimators=100, random_state=42)\n",
    "\n",
    "preprocessor = ColumnTransformer(\n",
    "    transformers=[\n",
    "        # ('to_int', TypeTransformer(), make_column_selector(dtype_include=\"float\")),\n",
    "        ('num_impute', SimpleImputer(missing_values=pd.NA, strategy='mean'), make_column_selector(dtype_exclude=\"object\")),\n",
    "        ('num_scaler', StandardScaler(), make_column_selector(dtype_include=\"number\"))\n",
    "    ],\n",
    "    remainder='passthrough'\n",
    ")\n",
    "\n",
    "# TODO: issue with pandas DF when stacking ColumnTransformers\n",
    "# Step 2: Define a column transformer for encoding and scaling\n",
    "encoding = ColumnTransformer(\n",
    "    transformers=[\n",
    "        ('num_scaler', StandardScaler(), make_column_selector(dtype_include=\"number\"))\n",
    "    ],\n",
    "    remainder='passthrough'\n",
    ")\n",
    "\n",
    "# Step 3: Create the final pipeline\n",
    "pipeline = make_pipeline(\n",
    "    preprocessor,\n",
    "    # encoding,\n",
    "    rf_model\n",
    ")"
   ]
  },
  {
   "cell_type": "code",
   "execution_count": 32,
   "id": "f6169a4e-d6d8-45f8-a9bd-80e365f5ac9d",
   "metadata": {
    "tags": []
   },
   "outputs": [
    {
     "data": {
      "text/plain": [
       "array([0, 0, 0, ..., 1, 0, 0])"
      ]
     },
     "execution_count": 32,
     "metadata": {},
     "output_type": "execute_result"
    }
   ],
   "source": [
    "# fitting the model on the train data\n",
    "pipeline.fit(X_train, Y_train)\n",
    "\n",
    "\n",
    "# save model\n",
    "joblib.dump(pipeline, '../../models/diabetes_randomforest_pipeline.pkl')\n",
    "\n",
    "# test load\n",
    "# pipeline = joblib.load('../../models/diabetes_randomforest_pipeline.pkl')\n",
    "# pipeline.predict(X_test)"
   ]
  },
  {
   "cell_type": "code",
   "execution_count": 298,
   "id": "4bc1a181",
   "metadata": {
    "tags": []
   },
   "outputs": [
    {
     "name": "stdout",
     "output_type": "stream",
     "text": [
      "Mean Squared Error : 0.16301744063878967\n",
      "Root Mean Squared Error : 0.4037541834319363\n"
     ]
    }
   ],
   "source": [
    "# make predictions on test set\n",
    "y_pred = pipeline.predict(X_test)\n",
    "\n",
    "print('Training set score: {:.4f}'.format(pipeline.score(X_train, Y_train)))\n",
    "\n",
    "print('Test set score: {:.4f}'.format(pipeline.score(X_test, Y_test)))\n",
    "\n",
    "#check MSE & RMSE \n",
    "mse = mean_squared_error(Y_test, y_pred)\n",
    "print('Mean Squared Error : '+ str(mse))\n",
    "rmse = math.sqrt(mean_squared_error(Y_test, y_pred))\n",
    "print('Root Mean Squared Error : '+ str(rmse))\n",
    "\n",
    "matrix = classification_report(Y_train, Y_train)\n",
    "print(\"Train:\\n\", matrix)\n",
    "\n",
    "matrix = classification_report(Y_test, y_pred)\n",
    "print(\"Test:\\n\", matrix)"
   ]
  },
  {
   "cell_type": "code",
   "execution_count": 300,
   "id": "9cfb9766",
   "metadata": {
    "tags": []
   },
   "outputs": [
    {
     "data": {
      "image/png": "[encoded data removed]",
      "text/plain": [
       "<Figure size 640x480 with 2 Axes>"
      ]
     },
     "metadata": {},
     "output_type": "display_data"
    }
   ],
   "source": [
    "# calculating and plotting the confusion matrix\n",
    "cm1 = confusion_matrix(Y_test, y_pred)\n",
    "plot_confusion_matrix(conf_mat=cm1,show_absolute=True,\n",
    "                                show_normed=True,\n",
    "                                colorbar=True)\n",
    "plt.show()"
   ]
  },
  {
   "cell_type": "markdown",
   "id": "4799ad08",
   "metadata": {},
   "source": [
    "**XGBoost**"
   ]
  },
  {
   "cell_type": "code",
   "execution_count": 153,
   "id": "7339a56c",
   "metadata": {
    "tags": []
   },
   "outputs": [
    {
     "ename": "ModuleNotFoundError",
     "evalue": "No module named 'xgboost'",
     "output_type": "error",
     "traceback": [
      "\u001b[0;31m---------------------------------------------------------------------------\u001b[0m",
      "\u001b[0;31mModuleNotFoundError\u001b[0m                       Traceback (most recent call last)",
      "Cell \u001b[0;32mIn[153], line 1\u001b[0m\n\u001b[0;32m----> 1\u001b[0m \u001b[38;5;28;01mfrom\u001b[39;00m \u001b[38;5;21;01mxgboost\u001b[39;00m \u001b[38;5;28;01mimport\u001b[39;00m XGBClassifier\n\u001b[1;32m      2\u001b[0m xg \u001b[38;5;241m=\u001b[39m XGBClassifier(eval_metric\u001b[38;5;241m=\u001b[39m \u001b[38;5;124m'\u001b[39m\u001b[38;5;124merror\u001b[39m\u001b[38;5;124m'\u001b[39m, learning_rate\u001b[38;5;241m=\u001b[39m \u001b[38;5;241m0.1\u001b[39m)\n\u001b[1;32m      3\u001b[0m xg\u001b[38;5;241m.\u001b[39mfit(X_train , Y_train)\n",
      "\u001b[0;31mModuleNotFoundError\u001b[0m: No module named 'xgboost'"
     ]
    }
   ],
   "source": [
    "from xgboost import XGBClassifier\n",
    "xg = XGBClassifier(eval_metric= 'error', learning_rate= 0.1)\n",
    "xg.fit(X_train , Y_train)"
   ]
  },
  {
   "cell_type": "code",
   "execution_count": 167,
   "id": "5192b226",
   "metadata": {
    "execution": {
     "iopub.execute_input": "2022-10-05T16:10:49.734342Z",
     "iopub.status.busy": "2022-10-05T16:10:49.733985Z",
     "iopub.status.idle": "2022-10-05T16:10:49.856961Z",
     "shell.execute_reply": "2022-10-05T16:10:49.855375Z",
     "shell.execute_reply.started": "2022-10-05T16:10:49.734309Z"
    }
   },
   "outputs": [
    {
     "name": "stdout",
     "output_type": "stream",
     "text": [
      "Training set score: 0.8770\n",
      "Test set score: 0.8663\n"
     ]
    }
   ],
   "source": [
    "y_pred=xg.predict(X_test)\n",
    "\n",
    "print('Training set score: {:.4f}'.format(xg.score(X_train, Y_train)))\n",
    "\n",
    "print('Test set score: {:.4f}'.format(xg.score(X_test, Y_test)))"
   ]
  },
  {
   "cell_type": "code",
   "execution_count": 168,
   "id": "8694bfb5",
   "metadata": {
    "execution": {
     "iopub.execute_input": "2022-10-05T16:10:49.858857Z",
     "iopub.status.busy": "2022-10-05T16:10:49.858483Z",
     "iopub.status.idle": "2022-10-05T16:10:49.866082Z",
     "shell.execute_reply": "2022-10-05T16:10:49.865231Z",
     "shell.execute_reply.started": "2022-10-05T16:10:49.858822Z"
    }
   },
   "outputs": [
    {
     "name": "stdout",
     "output_type": "stream",
     "text": [
      "Mean Squared Error : 0.13367206420057934\n",
      "Root Mean Squared Error : 0.3656119038004361\n"
     ]
    }
   ],
   "source": [
    "#check MSE & RMSE \n",
    "mse =mean_squared_error(Y_test, y_pred)\n",
    "print('Mean Squared Error : '+ str(mse))\n",
    "rmse = math.sqrt(mean_squared_error(Y_test, y_pred))\n",
    "print('Root Mean Squared Error : '+ str(rmse))"
   ]
  },
  {
   "cell_type": "code",
   "execution_count": 169,
   "id": "024b18dc",
   "metadata": {
    "execution": {
     "iopub.execute_input": "2022-10-05T16:10:49.867938Z",
     "iopub.status.busy": "2022-10-05T16:10:49.867133Z",
     "iopub.status.idle": "2022-10-05T16:10:49.919964Z",
     "shell.execute_reply": "2022-10-05T16:10:49.918596Z",
     "shell.execute_reply.started": "2022-10-05T16:10:49.867903Z"
    }
   },
   "outputs": [
    {
     "name": "stdout",
     "output_type": "stream",
     "text": [
      "              precision    recall  f1-score   support\n",
      "\n",
      "           0       0.81      0.95      0.88     10468\n",
      "           1       0.94      0.79      0.86     10591\n",
      "\n",
      "    accuracy                           0.87     21059\n",
      "   macro avg       0.88      0.87      0.87     21059\n",
      "weighted avg       0.88      0.87      0.87     21059\n",
      "\n"
     ]
    }
   ],
   "source": [
    "matrix = classification_report(Y_test,y_pred )\n",
    "print(matrix)"
   ]
  },
  {
   "cell_type": "code",
   "execution_count": 170,
   "id": "991e9e39",
   "metadata": {
    "execution": {
     "iopub.execute_input": "2022-10-05T16:10:49.921702Z",
     "iopub.status.busy": "2022-10-05T16:10:49.921268Z",
     "iopub.status.idle": "2022-10-05T16:10:50.169047Z",
     "shell.execute_reply": "2022-10-05T16:10:50.167801Z",
     "shell.execute_reply.started": "2022-10-05T16:10:49.921669Z"
    }
   },
   "outputs": [
    {
     "data": {
      "image/png": "[encoded data removed]",
      "text/plain": [
       "<Figure size 432x288 with 2 Axes>"
      ]
     },
     "metadata": {
      "needs_background": "light"
     },
     "output_type": "display_data"
    }
   ],
   "source": [
    "# calculating and plotting the confusion matrix\n",
    "cm1 = confusion_matrix(Y_test,y_pred)\n",
    "plot_confusion_matrix(conf_mat=cm1,show_absolute=True,\n",
    "                                show_normed=True,\n",
    "                                colorbar=True)\n",
    "plt.show()"
   ]
  }
 ],
 "metadata": {
  "kernelspec": {
   "display_name": "model_venv",
   "language": "python",
   "name": "model_venv"
  },
  "language_info": {
   "codemirror_mode": {
    "name": "ipython",
    "version": 3
   },
   "file_extension": ".py",
   "mimetype": "text/x-python",
   "name": "python",
   "nbconvert_exporter": "python",
   "pygments_lexer": "ipython3",
   "version": "3.11.5"
  }
 },
 "nbformat": 4,
 "nbformat_minor": 5
}
